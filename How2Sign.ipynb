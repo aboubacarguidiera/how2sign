{
 "cells": [
  {
   "cell_type": "code",
   "execution_count": 1,
   "id": "821b62c6-2f69-4401-b7c7-8f233d52b4ed",
   "metadata": {},
   "outputs": [],
   "source": [
    "def frame_to_time(frame_number, fps=25):\n",
    "    return frame_number / fps\n"
   ]
  },
  {
   "cell_type": "code",
   "execution_count": 3,
   "id": "c6e7c19a-b35e-4026-83de-2e4dc3c00af2",
   "metadata": {},
   "outputs": [],
   "source": [
    "def time_to_frame(time_seconds, fps=25):\n",
    "    return int(time_seconds * fps)\n"
   ]
  },
  {
   "cell_type": "code",
   "execution_count": 5,
   "id": "d9dc51e3-794a-4d21-8774-cb324b827855",
   "metadata": {},
   "outputs": [],
   "source": [
    "def get_keypoints_for_segment(sentence_name, start_time, end_time, json_dir, fps=25):\n",
    "    start_frame = time_to_frame(start_time, fps)\n",
    "    end_frame = time_to_frame(end_time, fps)\n",
    "\n",
    "    keypoints_sequence = []\n",
    "\n",
    "    for frame_num in range(start_frame, end_frame + 1):\n",
    "        json_file = os.path.join(json_dir, f\"{sentence_name}_{frame_num:012d}.json\")\n",
    "\n",
    "        if os.path.exists(json_file):\n",
    "            with open(json_file, 'r') as f:\n",
    "                frame_data = json.load(f)\n",
    "                keypoints_sequence.append(frame_data)\n",
    "        else:\n",
    "            print(f\"Warning: Missing JSON file for frame {frame_num}\")\n",
    "\n",
    "    return keypoints_sequence\n"
   ]
  },
  {
   "cell_type": "code",
   "execution_count": 7,
   "id": "69a7e7e8-35ed-4e29-93a6-9f80f39bfb4b",
   "metadata": {},
   "outputs": [],
   "source": [
    "def find_matching_json_files(sentence_name, json_dir):\n",
    "    patterns = [\n",
    "        f\"{sentence_name}_*.json\",\n",
    "        f\"{sentence_name.replace('--', '_')}*.json\",\n",
    "        f\"*{sentence_name.split('_')[1]}*.json\"\n",
    "    ]\n",
    "\n",
    "    for pattern in patterns:\n",
    "        files = glob.glob(os.path.join(json_dir, pattern))\n",
    "        if files:\n",
    "            return files\n",
    "    return []\n"
   ]
  },
  {
   "cell_type": "code",
   "execution_count": 9,
   "id": "39ed33c9-0907-45a3-9d7c-73137c9e45b0",
   "metadata": {},
   "outputs": [],
   "source": [
    "def handle_missing_frames(keypoints_sequence, expected_length):\n",
    "    if len(keypoints_sequence) < expected_length:\n",
    "        # Simple interpolation: duplicate the last frame\n",
    "        last_frame = keypoints_sequence[-1]\n",
    "        while len(keypoints_sequence) < expected_length:\n",
    "            keypoints_sequence.append(last_frame)\n",
    "    return keypoints_sequence\n"
   ]
  },
  {
   "cell_type": "code",
   "execution_count": 17,
   "id": "c721ab5c-085d-48e2-bdf2-56d3a9237c11",
   "metadata": {
    "scrolled": true
   },
   "outputs": [
    {
     "name": "stdout",
     "output_type": "stream",
     "text": [
      "      VIDEO_ID               VIDEO_NAME    SENTENCE_ID  \\\n",
      "0  -fZc293MpJk  -fZc293MpJk-1-rgb_front  -fZc293MpJk_0   \n",
      "1  -fZc293MpJk  -fZc293MpJk-1-rgb_front  -fZc293MpJk_2   \n",
      "2  -fZc293MpJk  -fZc293MpJk-1-rgb_front  -fZc293MpJk_3   \n",
      "3  -fZc293MpJk  -fZc293MpJk-1-rgb_front  -fZc293MpJk_4   \n",
      "4  -fZc293MpJk  -fZc293MpJk-1-rgb_front  -fZc293MpJk_5   \n",
      "\n",
      "               SENTENCE_NAME  START_REALIGNED  END_REALIGNED  \\\n",
      "0  -fZc293MpJk_0-1-rgb_front             0.26           6.79   \n",
      "1  -fZc293MpJk_2-1-rgb_front             7.27          20.30   \n",
      "2  -fZc293MpJk_3-1-rgb_front            21.25          25.51   \n",
      "3  -fZc293MpJk_4-1-rgb_front            27.75          44.64   \n",
      "4  -fZc293MpJk_5-1-rgb_front            46.68          52.44   \n",
      "\n",
      "                                            SENTENCE  \n",
      "0                                                Hi!  \n",
      "1  The aileron is the control surface in the wing...  \n",
      "2  By moving the stick, you cause pressure to inc...  \n",
      "3  The elevator is the part that moves with the s...  \n",
      "4  Therefore, it's either going uphill, downhill,...  \n"
     ]
    }
   ],
   "source": [
    "import pandas as pd\n",
    "\n",
    "df = pd.read_csv('D://Stage PFA 2A//how2sign_realigned_test.csv', sep=\"\\t\")\n",
    "print(df.head())\n"
   ]
  },
  {
   "cell_type": "code",
   "execution_count": 19,
   "id": "7426c235-9b0d-4e9a-ab57-3fb67aa61f08",
   "metadata": {},
   "outputs": [
    {
     "data": {
      "text/html": [
       "<div>\n",
       "<style scoped>\n",
       "    .dataframe tbody tr th:only-of-type {\n",
       "        vertical-align: middle;\n",
       "    }\n",
       "\n",
       "    .dataframe tbody tr th {\n",
       "        vertical-align: top;\n",
       "    }\n",
       "\n",
       "    .dataframe thead th {\n",
       "        text-align: right;\n",
       "    }\n",
       "</style>\n",
       "<table border=\"1\" class=\"dataframe\">\n",
       "  <thead>\n",
       "    <tr style=\"text-align: right;\">\n",
       "      <th></th>\n",
       "      <th>VIDEO_ID</th>\n",
       "      <th>VIDEO_NAME</th>\n",
       "      <th>SENTENCE_ID</th>\n",
       "      <th>SENTENCE_NAME</th>\n",
       "      <th>START_REALIGNED</th>\n",
       "      <th>END_REALIGNED</th>\n",
       "      <th>SENTENCE</th>\n",
       "    </tr>\n",
       "  </thead>\n",
       "  <tbody>\n",
       "    <tr>\n",
       "      <th>0</th>\n",
       "      <td>-fZc293MpJk</td>\n",
       "      <td>-fZc293MpJk-1-rgb_front</td>\n",
       "      <td>-fZc293MpJk_0</td>\n",
       "      <td>-fZc293MpJk_0-1-rgb_front</td>\n",
       "      <td>0.26</td>\n",
       "      <td>6.79</td>\n",
       "      <td>Hi!</td>\n",
       "    </tr>\n",
       "    <tr>\n",
       "      <th>1</th>\n",
       "      <td>-fZc293MpJk</td>\n",
       "      <td>-fZc293MpJk-1-rgb_front</td>\n",
       "      <td>-fZc293MpJk_2</td>\n",
       "      <td>-fZc293MpJk_2-1-rgb_front</td>\n",
       "      <td>7.27</td>\n",
       "      <td>20.30</td>\n",
       "      <td>The aileron is the control surface in the wing...</td>\n",
       "    </tr>\n",
       "    <tr>\n",
       "      <th>2</th>\n",
       "      <td>-fZc293MpJk</td>\n",
       "      <td>-fZc293MpJk-1-rgb_front</td>\n",
       "      <td>-fZc293MpJk_3</td>\n",
       "      <td>-fZc293MpJk_3-1-rgb_front</td>\n",
       "      <td>21.25</td>\n",
       "      <td>25.51</td>\n",
       "      <td>By moving the stick, you cause pressure to inc...</td>\n",
       "    </tr>\n",
       "    <tr>\n",
       "      <th>3</th>\n",
       "      <td>-fZc293MpJk</td>\n",
       "      <td>-fZc293MpJk-1-rgb_front</td>\n",
       "      <td>-fZc293MpJk_4</td>\n",
       "      <td>-fZc293MpJk_4-1-rgb_front</td>\n",
       "      <td>27.75</td>\n",
       "      <td>44.64</td>\n",
       "      <td>The elevator is the part that moves with the s...</td>\n",
       "    </tr>\n",
       "    <tr>\n",
       "      <th>4</th>\n",
       "      <td>-fZc293MpJk</td>\n",
       "      <td>-fZc293MpJk-1-rgb_front</td>\n",
       "      <td>-fZc293MpJk_5</td>\n",
       "      <td>-fZc293MpJk_5-1-rgb_front</td>\n",
       "      <td>46.68</td>\n",
       "      <td>52.44</td>\n",
       "      <td>Therefore, it's either going uphill, downhill,...</td>\n",
       "    </tr>\n",
       "  </tbody>\n",
       "</table>\n",
       "</div>"
      ],
      "text/plain": [
       "      VIDEO_ID               VIDEO_NAME    SENTENCE_ID  \\\n",
       "0  -fZc293MpJk  -fZc293MpJk-1-rgb_front  -fZc293MpJk_0   \n",
       "1  -fZc293MpJk  -fZc293MpJk-1-rgb_front  -fZc293MpJk_2   \n",
       "2  -fZc293MpJk  -fZc293MpJk-1-rgb_front  -fZc293MpJk_3   \n",
       "3  -fZc293MpJk  -fZc293MpJk-1-rgb_front  -fZc293MpJk_4   \n",
       "4  -fZc293MpJk  -fZc293MpJk-1-rgb_front  -fZc293MpJk_5   \n",
       "\n",
       "               SENTENCE_NAME  START_REALIGNED  END_REALIGNED  \\\n",
       "0  -fZc293MpJk_0-1-rgb_front             0.26           6.79   \n",
       "1  -fZc293MpJk_2-1-rgb_front             7.27          20.30   \n",
       "2  -fZc293MpJk_3-1-rgb_front            21.25          25.51   \n",
       "3  -fZc293MpJk_4-1-rgb_front            27.75          44.64   \n",
       "4  -fZc293MpJk_5-1-rgb_front            46.68          52.44   \n",
       "\n",
       "                                            SENTENCE  \n",
       "0                                                Hi!  \n",
       "1  The aileron is the control surface in the wing...  \n",
       "2  By moving the stick, you cause pressure to inc...  \n",
       "3  The elevator is the part that moves with the s...  \n",
       "4  Therefore, it's either going uphill, downhill,...  "
      ]
     },
     "execution_count": 19,
     "metadata": {},
     "output_type": "execute_result"
    }
   ],
   "source": [
    "df.head()"
   ]
  },
  {
   "cell_type": "code",
   "execution_count": null,
   "id": "9663dd86-7c89-496f-9739-e5e154814cf7",
   "metadata": {},
   "outputs": [],
   "source": [
    "import os\n",
    "import json\n",
    "\n",
    "json_dir = 'D:/Stage PFA 2A/test_2D_keypoints/openpose_output/json'\n",
    "\n",
    "for idx, row in df.iterrows():\n",
    "    sentence_name = row['SENTENCE_NAME']\n",
    "    start_time = row['START_REALIGNED']\n",
    "    end_time = row['END_REALIGNED']\n",
    "    text = row['SENTENCE']\n",
    "\n",
    "    keypoints = get_keypoints_for_segment(sentence_name, start_time, end_time, json_dir)\n",
    "    # Traiter les keypoints et les segments vidéo\n"
   ]
  },
  {
   "cell_type": "code",
   "execution_count": null,
   "id": "35ae107a-4e3f-44bd-88ca-82deb5c02509",
   "metadata": {},
   "outputs": [],
   "source": []
  }
 ],
 "metadata": {
  "kernelspec": {
   "display_name": "Python 3 (ipykernel)",
   "language": "python",
   "name": "python3"
  },
  "language_info": {
   "codemirror_mode": {
    "name": "ipython",
    "version": 3
   },
   "file_extension": ".py",
   "mimetype": "text/x-python",
   "name": "python",
   "nbconvert_exporter": "python",
   "pygments_lexer": "ipython3",
   "version": "3.12.4"
  }
 },
 "nbformat": 4,
 "nbformat_minor": 5
}
